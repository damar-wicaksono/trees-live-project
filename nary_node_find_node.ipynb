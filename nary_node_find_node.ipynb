{
 "cells": [
  {
   "cell_type": "code",
   "execution_count": null,
   "id": "ed726917",
   "metadata": {},
   "outputs": [],
   "source": [
    "class NaryNode():\n",
    "    \"\"\"A class to represent an n-ary node.\n",
    "    \n",
    "    Attributes\n",
    "    ----------\n",
    "    value: str\n",
    "    children: list\n",
    "    \n",
    "    Methods\n",
    "    -------\n",
    "    add_child(child)\n",
    "    \n",
    "    \"\"\"\n",
    "    \n",
    "    indent = \"  \"  # Outline views two-space indentation\n",
    "    \n",
    "    def __init__(self, value, children=[]):\n",
    "        \"\"\"Default initializer for n-nary node instance.\n",
    "        \n",
    "        Parameters\n",
    "        ----------\n",
    "        value: str\n",
    "            The current node value\n",
    "        children: list\n",
    "            The children of the current node\n",
    "        \"\"\"\n",
    "        \n",
    "        self.value = value\n",
    "        self.children = children\n",
    "\n",
    "\n",
    "    def add_child(self, child):\n",
    "        \"\"\"Add a child node to the list of children.\n",
    "        \n",
    "        Parameters\n",
    "        ----------\n",
    "        child: NaryNode\n",
    "            A node\n",
    "        \"\"\"\n",
    "        \n",
    "        self.children.append(child)\n",
    "    \n",
    "\n",
    "    def find_node(self, target_value):\n",
    "        \"\"\"Find a node within the subtree of the current node whose value is the target value.\"\"\"\n",
    "        if self.value == target_value:\n",
    "            return self\n",
    "        else:\n",
    "            for child in self.children:\n",
    "                found_node = child.find_node(target_value)\n",
    "                if found_node is not None:\n",
    "                    return found_node\n",
    "            \n",
    "    def __str__(self, level=0):\n",
    "        \"\"\"Return the string representation of the n-nary node instance.\"\"\"\n",
    "        \n",
    "        str_out = f\"{level*self.indent}{self.value}:\\n\"\n",
    "        level += 1\n",
    "        for i in self.children:\n",
    "            str_out += i.__str__(level)\n",
    "        return str_out"
   ]
  },
  {
   "cell_type": "code",
   "execution_count": null,
   "id": "27a44be8",
   "metadata": {},
   "outputs": [],
   "source": [
    "G = NaryNode(\"G\")\n",
    "H = NaryNode(\"H\")\n",
    "I = NaryNode(\"I\")\n",
    "D = NaryNode(\"D\", [G])\n",
    "E = NaryNode(\"E\")\n",
    "F = NaryNode(\"F\", [H,I])\n",
    "A = NaryNode(\"A\", [D,E])\n",
    "B = NaryNode(\"B\")\n",
    "C = NaryNode(\"C\", [F])\n",
    "Root = NaryNode(\"Root\", [A, B, C])"
   ]
  },
  {
   "cell_type": "code",
   "execution_count": null,
   "id": "b8c578f8",
   "metadata": {},
   "outputs": [],
   "source": [
    "print(Root)\n",
    "print(A)\n",
    "print(B)\n",
    "print(C)\n",
    "print(D)\n",
    "print(E)\n",
    "print(F)\n",
    "print(G)\n",
    "print(H)\n",
    "print(I)"
   ]
  },
  {
   "cell_type": "code",
   "execution_count": null,
   "id": "892ae858",
   "metadata": {},
   "outputs": [],
   "source": [
    "print(Root)"
   ]
  },
  {
   "cell_type": "code",
   "execution_count": null,
   "id": "611be74c",
   "metadata": {},
   "outputs": [],
   "source": [
    "print(A)"
   ]
  },
  {
   "cell_type": "code",
   "execution_count": null,
   "id": "5b0e5afb",
   "metadata": {},
   "outputs": [],
   "source": [
    "def find_value(node, target_value):\n",
    "    \"\"\"Testing function searching the subtree of a node for a target value.\"\"\"\n",
    "    found_node = node.find_node(target_value)\n",
    "    if found_node is not None:\n",
    "        print(f\"Found {found_node.value}\")\n",
    "    else:\n",
    "        print(f\"Value {target_value} not found\")"
   ]
  },
  {
   "cell_type": "code",
   "execution_count": null,
   "id": "337d3601",
   "metadata": {},
   "outputs": [],
   "source": [
    "# Find some values.\n",
    "find_value(Root, 'Root')\n",
    "find_value(Root, 'E')\n",
    "find_value(Root, 'F')\n",
    "find_value(Root, 'Q')\n",
    "\n",
    "# Find F in the C subtree.\n",
    "find_value(C, 'F')"
   ]
  }
 ],
 "metadata": {
  "kernelspec": {
   "display_name": "Python 3",
   "language": "python",
   "name": "python3"
  },
  "language_info": {
   "codemirror_mode": {
    "name": "ipython",
    "version": 3
   },
   "file_extension": ".py",
   "mimetype": "text/x-python",
   "name": "python",
   "nbconvert_exporter": "python",
   "pygments_lexer": "ipython3",
   "version": "3.8.11"
  }
 },
 "nbformat": 4,
 "nbformat_minor": 5
}

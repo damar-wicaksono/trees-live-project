{
 "cells": [
  {
   "cell_type": "code",
   "execution_count": null,
   "id": "4dea8988",
   "metadata": {},
   "outputs": [],
   "source": [
    "class BinaryNode():\n",
    "    \"\"\"A class to represent a binary node.\n",
    "    \"\"\"\n",
    "\n",
    "    indent = \"  \"  # Two-space indentation\n",
    "    \n",
    "    def __init__(self, value):\n",
    "        self.value = value\n",
    "        self.left_child = None\n",
    "        self.right_child = None\n",
    "\n",
    "    \n",
    "    def add_left(self, link):\n",
    "        self.left_child = link\n",
    "        \n",
    "    \n",
    "    def add_right(self, link):\n",
    "        self.right_child = link\n",
    "    \n",
    "    \n",
    "    def find_node(self, target_value):\n",
    "        \"\"\"Find the given node in the current node subtree.\"\"\"\n",
    "        \n",
    "        if self.value == target_value:\n",
    "            return self\n",
    "        else:\n",
    "            if self.left_child is None and self.right_child is None:\n",
    "                return None\n",
    "            elif self.right_child is None:\n",
    "                return self.left_child.find_node(target_value)\n",
    "            elif self.left_child is None:\n",
    "                return self.right_child.find_node(target_value)\n",
    "            else:\n",
    "                left = self.left_child.find_node(target_value)\n",
    "                if left is not None:\n",
    "                    return left\n",
    "                \n",
    "                right = self.right_child.find_node(target_value)\n",
    "                if right is not None:\n",
    "                    return right\n",
    "                \n",
    "    def __str__(self, level=0):\n",
    "        str_out = f\"{level*self.indent}{self.value}:\\n\"\n",
    "        if self.left_child is None and self.right_child is None:\n",
    "            str_out += \"\"\n",
    "        elif self.right_child is None:\n",
    "            level += 1\n",
    "            str_out += self.left_child.__str__(level)\n",
    "            str_out += f\"{level*self.indent}None\\n\"\n",
    "        elif self.left_child is None:\n",
    "            level += 1\n",
    "            str_out += f\"{level*self.indent}None\\n\"\n",
    "            str_out += self.right_child.__str__(level)\n",
    "        else:\n",
    "            level += 1\n",
    "            str_out += self.left_child.__str__(level)\n",
    "            str_out += self.right_child.__str__(level)\n",
    "\n",
    "        return str_out"
   ]
  },
  {
   "cell_type": "code",
   "execution_count": null,
   "id": "1e523aa4",
   "metadata": {},
   "outputs": [],
   "source": [
    "a = BinaryNode(10)\n",
    "b = BinaryNode(20)\n",
    "c = BinaryNode(30)\n",
    "a.add_right(c)\n",
    "a.add_left(b)\n",
    "print(a)"
   ]
  },
  {
   "cell_type": "code",
   "execution_count": null,
   "id": "acf88029",
   "metadata": {},
   "outputs": [],
   "source": [
    "Root = BinaryNode(\"Root\")\n",
    "A = BinaryNode(\"A\")\n",
    "B = BinaryNode(\"B\")\n",
    "C = BinaryNode(\"C\")\n",
    "D = BinaryNode(\"D\")\n",
    "E = BinaryNode(\"E\")\n",
    "F = BinaryNode(\"F\")\n",
    "\n",
    "Root.add_left(A)\n",
    "Root.add_right(B)\n",
    "A.add_left(C)\n",
    "A.add_right(D)\n",
    "B.add_right(E)\n",
    "E.add_left(F)"
   ]
  },
  {
   "cell_type": "code",
   "execution_count": null,
   "id": "28c69f03",
   "metadata": {},
   "outputs": [],
   "source": [
    "print(Root)\n",
    "print(A)\n",
    "print(B)\n",
    "print(C)\n",
    "print(D)\n",
    "print(E)\n",
    "print(F)"
   ]
  },
  {
   "cell_type": "code",
   "execution_count": null,
   "id": "a7634f21",
   "metadata": {},
   "outputs": [],
   "source": [
    "print(A)"
   ]
  },
  {
   "cell_type": "code",
   "execution_count": null,
   "id": "71261ccf",
   "metadata": {},
   "outputs": [],
   "source": [
    "def find_value(node, target_value):\n",
    "    \"\"\"Testing function searching the subtree of a node for a target value.\"\"\"\n",
    "    found_node = node.find_node(target_value)\n",
    "    if found_node is not None:\n",
    "        print(f\"Found {found_node.value}\")\n",
    "    else:\n",
    "        print(f\"Value {target_value} not found\")"
   ]
  },
  {
   "cell_type": "code",
   "execution_count": null,
   "id": "f0a50de5",
   "metadata": {},
   "outputs": [],
   "source": [
    "# Find some values.\n",
    "find_value(Root, \"Root\")\n",
    "find_value(Root, 'E')\n",
    "find_value(Root, 'F')\n",
    "find_value(Root, 'Q')\n",
    "\n",
    "# Find F in the B subtree.\n",
    "find_value(B, 'F')"
   ]
  },
  {
   "cell_type": "code",
   "execution_count": null,
   "id": "9b67f682",
   "metadata": {},
   "outputs": [],
   "source": []
  }
 ],
 "metadata": {
  "kernelspec": {
   "display_name": "Python 3",
   "language": "python",
   "name": "python3"
  },
  "language_info": {
   "codemirror_mode": {
    "name": "ipython",
    "version": 3
   },
   "file_extension": ".py",
   "mimetype": "text/x-python",
   "name": "python",
   "nbconvert_exporter": "python",
   "pygments_lexer": "ipython3",
   "version": "3.8.11"
  }
 },
 "nbformat": 4,
 "nbformat_minor": 5
}
